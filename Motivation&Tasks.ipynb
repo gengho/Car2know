{
 "cells": [
  {
   "cell_type": "markdown",
   "metadata": {},
   "source": [
    "## Car2Know Project Overview\n",
    "\n",
    "### Motivation\n",
    "Uber, Lyft, Car2Go have become an important transporation way in the daily life. Our group wants to analyse the influx and outflux of Car2Go in different blocks in Seattle based on our data sets.  Our ultimate goal is to visualize the time, frequency of the available cars to general public in each block, for the convenience of the public. And hope it will make some improvements to the Car2Go company.\n",
    "\n",
    "### Research Objectives/Science Driver\n",
    "- How to map the data in ArcMap?\n",
    "- How to calculate the influx/outflux data?\n",
    "- How to group counts of influx/outflux with each block?\n",
    "- How can we visualize these data in a user-friendly interface accessible by the public?\n",
    "\n",
    "\n",
    "### Data\n",
    "Car2Go Data (Car2goOD.csv)\n",
    "2010 King County Census Blocks Data (ArcGIS files)\n",
    "\n",
    "### Design & Engineering Tasks\n",
    "**Inputs** Car2Go data, 2010 King County Census Blocks shapefiles.\n",
    "\n",
    "**Outputs** Basic maps, including the geologic locations for the chosen cars, the final results in each census block. All plots and maps are automated to consider user-defined options for variable choice.\n",
    "\n",
    "**Functions**:\n",
    "1) Map the Car2Go data in ArcMap.\n",
    "2) Calculate the .mxd file in Python, get the influx and outflux of each census block.\n",
    "3) Group the influx and outflux, combined with each census block. \n",
    "4) Map Visualization of the final results.\n",
    "5) Make a basic trend analysis and exploration.\n",
    "\n",
    "\n",
    "### Use Cases\n",
    "Our project has 2 specific use cases:\n",
    "    -- A predictive tool for the public to choose the service of Car2Go more conveniently.\n",
    "    -- A simple exploratory data analysis tool for generating Car2Go in census blocks plots out of large datasets.\n",
    "\n",
    "### Third Party Notes\n",
    "\n"
   ]
  }
 ],
 "metadata": {
  "anaconda-cloud": {},
  "kernelspec": {
   "display_name": "Python [default]",
   "language": "python",
   "name": "python3"
  },
  "language_info": {
   "codemirror_mode": {
    "name": "ipython",
    "version": 3
   },
   "file_extension": ".py",
   "mimetype": "text/x-python",
   "name": "python",
   "nbconvert_exporter": "python",
   "pygments_lexer": "ipython3",
   "version": "3.5.2"
  }
 },
 "nbformat": 4,
 "nbformat_minor": 1
}
